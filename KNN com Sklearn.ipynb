{
 "cells": [
  {
   "cell_type": "code",
   "execution_count": 8,
   "metadata": {},
   "outputs": [],
   "source": [
    "from sklearn.neighbors import KNeighborsClassifier as knc\n",
    "\n",
    "amostras, saidas = [], []\n",
    "\n",
    "with open('datasets/dataset.data', 'r') as f:\n",
    "    for linha in f.readlines():\n",
    "        atr = linha.replace('\\n', '').split(',')\n",
    "        amostras.append([int(atr[0]), int(atr[2])])\n",
    "        saidas.append(int(atr[3]))"
   ]
  },
  {
   "cell_type": "code",
   "execution_count": 41,
   "metadata": {},
   "outputs": [
    {
     "name": "stdout",
     "output_type": "stream",
     "text": [
      "Total treinamento: 183\n",
      "Total testes: 123\n",
      "Total acertos: 93\n",
      "Porcentagem acertos: 75.61\n"
     ]
    }
   ],
   "source": [
    "p = 0.6 # porcentagem de dados para treinamento\n",
    "limite = int(p * len(amostras))\n",
    "knn = knc(n_neighbors=9)\n",
    "knn.fit(amostras[:limite], saidas[:limite])\n",
    "labels = knn.predict(amostras[limite:])\n",
    "acertos, indice_label = 0, 0\n",
    "\n",
    "for i in range(limite, len(amostras)):\n",
    "    if labels[indice_label] == saidas[i]:\n",
    "        acertos += 1 \n",
    "    indice_label += 1\n",
    "\n",
    "print('Total treinamento: %d' % limite)\n",
    "print('Total testes: %d' % (len(amostras) - limite))\n",
    "print('Total acertos: %d' % acertos)\n",
    "print('Porcentagem acertos: %.2f' % (100 * acertos / (len(amostras) - limite)))"
   ]
  }
 ],
 "metadata": {
  "kernelspec": {
   "display_name": "Python 3",
   "language": "python",
   "name": "python3"
  },
  "language_info": {
   "codemirror_mode": {
    "name": "ipython",
    "version": 3
   },
   "file_extension": ".py",
   "mimetype": "text/x-python",
   "name": "python",
   "nbconvert_exporter": "python",
   "pygments_lexer": "ipython3",
   "version": "3.6.2"
  }
 },
 "nbformat": 4,
 "nbformat_minor": 2
}
